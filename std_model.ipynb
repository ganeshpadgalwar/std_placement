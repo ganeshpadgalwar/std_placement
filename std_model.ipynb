{
 "cells": [
  {
   "cell_type": "code",
   "execution_count": 15,
   "id": "68c096c9-26d9-44fd-af68-c05725e41a2f",
   "metadata": {},
   "outputs": [],
   "source": [
    "import pandas as pd\n",
    "import numpy as np\n",
    "\n",
    "from sklearn.linear_model import LogisticRegression\n",
    "from sklearn.model_selection import train_test_split\n",
    "from sklearn.metrics import accuracy_score,classification_report,confusion_matrix\n",
    "\n",
    "import matplotlib.pyplot as plt\n",
    "import seaborn as sns\n",
    "\n",
    "import warnings \n",
    "warnings.filterwarnings(\"ignore\")"
   ]
  },
  {
   "cell_type": "markdown",
   "id": "35f2c9c1-171a-4753-80af-061f7f52fabd",
   "metadata": {},
   "source": [
    "# Problem Statement"
   ]
  },
  {
   "cell_type": "code",
   "execution_count": null,
   "id": "3a3c311b-218f-4d70-81cf-048079d16718",
   "metadata": {},
   "outputs": [],
   "source": [
    "Prdiction of student placement for placement drive\n",
    "\n",
    "Problem Statement Type > Binary Classification\n",
    "\n",
    "Algorithm : \n",
    "    Logistic Regression \n",
    "    KNN\n",
    "    DT \n",
    "    RF\n",
    "    Adaboost \n",
    "    Naive Baye's\n",
    "    SVM"
   ]
  },
  {
   "cell_type": "markdown",
   "id": "8bc7ccca-1f84-4cbe-a19c-6a4464e27393",
   "metadata": {},
   "source": [
    "# Data Gathering"
   ]
  },
  {
   "cell_type": "code",
   "execution_count": 17,
   "id": "1109ac54-5454-4747-aeb5-2fcd58098988",
   "metadata": {},
   "outputs": [
    {
     "data": {
      "text/html": [
       "<div>\n",
       "<style scoped>\n",
       "    .dataframe tbody tr th:only-of-type {\n",
       "        vertical-align: middle;\n",
       "    }\n",
       "\n",
       "    .dataframe tbody tr th {\n",
       "        vertical-align: top;\n",
       "    }\n",
       "\n",
       "    .dataframe thead th {\n",
       "        text-align: right;\n",
       "    }\n",
       "</style>\n",
       "<table border=\"1\" class=\"dataframe\">\n",
       "  <thead>\n",
       "    <tr style=\"text-align: right;\">\n",
       "      <th></th>\n",
       "      <th>cgpa</th>\n",
       "      <th>iq</th>\n",
       "      <th>profile_score</th>\n",
       "      <th>placed</th>\n",
       "    </tr>\n",
       "  </thead>\n",
       "  <tbody>\n",
       "    <tr>\n",
       "      <th>0</th>\n",
       "      <td>5.97</td>\n",
       "      <td>106</td>\n",
       "      <td>61</td>\n",
       "      <td>0</td>\n",
       "    </tr>\n",
       "    <tr>\n",
       "      <th>1</th>\n",
       "      <td>6.83</td>\n",
       "      <td>113</td>\n",
       "      <td>77</td>\n",
       "      <td>0</td>\n",
       "    </tr>\n",
       "    <tr>\n",
       "      <th>2</th>\n",
       "      <td>6.60</td>\n",
       "      <td>110</td>\n",
       "      <td>61</td>\n",
       "      <td>0</td>\n",
       "    </tr>\n",
       "    <tr>\n",
       "      <th>3</th>\n",
       "      <td>5.54</td>\n",
       "      <td>113</td>\n",
       "      <td>68</td>\n",
       "      <td>0</td>\n",
       "    </tr>\n",
       "    <tr>\n",
       "      <th>4</th>\n",
       "      <td>6.84</td>\n",
       "      <td>102</td>\n",
       "      <td>67</td>\n",
       "      <td>0</td>\n",
       "    </tr>\n",
       "    <tr>\n",
       "      <th>...</th>\n",
       "      <td>...</td>\n",
       "      <td>...</td>\n",
       "      <td>...</td>\n",
       "      <td>...</td>\n",
       "    </tr>\n",
       "    <tr>\n",
       "      <th>295</th>\n",
       "      <td>6.44</td>\n",
       "      <td>107</td>\n",
       "      <td>54</td>\n",
       "      <td>0</td>\n",
       "    </tr>\n",
       "    <tr>\n",
       "      <th>296</th>\n",
       "      <td>6.09</td>\n",
       "      <td>108</td>\n",
       "      <td>52</td>\n",
       "      <td>0</td>\n",
       "    </tr>\n",
       "    <tr>\n",
       "      <th>297</th>\n",
       "      <td>7.68</td>\n",
       "      <td>101</td>\n",
       "      <td>70</td>\n",
       "      <td>1</td>\n",
       "    </tr>\n",
       "    <tr>\n",
       "      <th>298</th>\n",
       "      <td>7.00</td>\n",
       "      <td>90</td>\n",
       "      <td>28</td>\n",
       "      <td>1</td>\n",
       "    </tr>\n",
       "    <tr>\n",
       "      <th>299</th>\n",
       "      <td>4.79</td>\n",
       "      <td>118</td>\n",
       "      <td>70</td>\n",
       "      <td>0</td>\n",
       "    </tr>\n",
       "  </tbody>\n",
       "</table>\n",
       "<p>300 rows × 4 columns</p>\n",
       "</div>"
      ],
      "text/plain": [
       "     cgpa   iq  profile_score  placed\n",
       "0    5.97  106             61       0\n",
       "1    6.83  113             77       0\n",
       "2    6.60  110             61       0\n",
       "3    5.54  113             68       0\n",
       "4    6.84  102             67       0\n",
       "..    ...  ...            ...     ...\n",
       "295  6.44  107             54       0\n",
       "296  6.09  108             52       0\n",
       "297  7.68  101             70       1\n",
       "298  7.00   90             28       1\n",
       "299  4.79  118             70       0\n",
       "\n",
       "[300 rows x 4 columns]"
      ]
     },
     "execution_count": 17,
     "metadata": {},
     "output_type": "execute_result"
    }
   ],
   "source": [
    "df = pd.read_csv(\"students_placement.csv\")\n",
    "df"
   ]
  },
  {
   "cell_type": "code",
   "execution_count": 18,
   "id": "31236b7f-0c64-496a-8753-e497c383a6d8",
   "metadata": {},
   "outputs": [
    {
     "name": "stdout",
     "output_type": "stream",
     "text": [
      "<class 'pandas.core.frame.DataFrame'>\n",
      "RangeIndex: 300 entries, 0 to 299\n",
      "Data columns (total 4 columns):\n",
      " #   Column         Non-Null Count  Dtype  \n",
      "---  ------         --------------  -----  \n",
      " 0   cgpa           300 non-null    float64\n",
      " 1   iq             300 non-null    int64  \n",
      " 2   profile_score  300 non-null    int64  \n",
      " 3   placed         300 non-null    int64  \n",
      "dtypes: float64(1), int64(3)\n",
      "memory usage: 9.5 KB\n"
     ]
    }
   ],
   "source": [
    "df.info()"
   ]
  },
  {
   "cell_type": "markdown",
   "id": "ef9b9b44-b5ac-4c07-a09b-2cb0b5b1240d",
   "metadata": {},
   "source": [
    "# EDA"
   ]
  },
  {
   "cell_type": "code",
   "execution_count": 21,
   "id": "5168bf52-9ade-4ed7-a75a-7026ba4a04b7",
   "metadata": {},
   "outputs": [
    {
     "data": {
      "text/plain": [
       "197"
      ]
     },
     "execution_count": 21,
     "metadata": {},
     "output_type": "execute_result"
    }
   ],
   "source": [
    "df[\"cgpa\"].nunique()"
   ]
  },
  {
   "cell_type": "code",
   "execution_count": 22,
   "id": "0ff7dd32-72b9-455a-b212-ab3f1fd0c3c5",
   "metadata": {},
   "outputs": [
    {
     "data": {
      "text/plain": [
       "38"
      ]
     },
     "execution_count": 22,
     "metadata": {},
     "output_type": "execute_result"
    }
   ],
   "source": [
    "df[\"iq\"].nunique()"
   ]
  },
  {
   "cell_type": "code",
   "execution_count": 23,
   "id": "eb266bc2-4b14-427e-be21-9a43f278f400",
   "metadata": {},
   "outputs": [
    {
     "data": {
      "text/plain": [
       "67"
      ]
     },
     "execution_count": 23,
     "metadata": {},
     "output_type": "execute_result"
    }
   ],
   "source": [
    "df[\"profile_score\"].nunique()"
   ]
  },
  {
   "cell_type": "code",
   "execution_count": 28,
   "id": "2392c2d6-b97d-4fce-8606-376858d7ef94",
   "metadata": {},
   "outputs": [
    {
     "data": {
      "text/plain": [
       "1    152\n",
       "0    148\n",
       "Name: placed, dtype: int64"
      ]
     },
     "execution_count": 28,
     "metadata": {},
     "output_type": "execute_result"
    }
   ],
   "source": [
    "df[\"placed\"].value_counts()"
   ]
  },
  {
   "cell_type": "markdown",
   "id": "1b57e1e7-34a0-4e23-9cc7-0704bc0b435d",
   "metadata": {},
   "source": [
    "# Model Training "
   ]
  },
  {
   "cell_type": "code",
   "execution_count": 36,
   "id": "539a52ce-859c-45e8-8913-bc461b8ac110",
   "metadata": {},
   "outputs": [],
   "source": [
    "# x,y Data Separation\n",
    "x = df.drop(\"placed\",axis = 1)\n",
    "y = df[\"placed\"]"
   ]
  },
  {
   "cell_type": "code",
   "execution_count": 72,
   "id": "e37230c8-4abc-45f5-8f81-37ca92b7932d",
   "metadata": {},
   "outputs": [],
   "source": [
    "#  train test split\n",
    "x_train,x_test,y_train,y_test = train_test_split(x,y,test_size = 0.30,random_state = 22,stratify=y)"
   ]
  },
  {
   "cell_type": "code",
   "execution_count": 73,
   "id": "a56cf4a2-32dc-46b9-9e27-c7da536ab531",
   "metadata": {},
   "outputs": [
    {
     "data": {
      "text/plain": [
       "LogisticRegression()"
      ]
     },
     "execution_count": 73,
     "metadata": {},
     "output_type": "execute_result"
    }
   ],
   "source": [
    "log_model = LogisticRegression()\n",
    "log_model.fit(x_train,y_train)"
   ]
  },
  {
   "cell_type": "markdown",
   "id": "bf1f376f-a63f-4740-a47d-0cc5ae2be590",
   "metadata": {},
   "source": [
    "# Model Evaluation"
   ]
  },
  {
   "cell_type": "code",
   "execution_count": 74,
   "id": "30fe2162-94f5-4192-89cd-fcd4e66d146d",
   "metadata": {},
   "outputs": [
    {
     "data": {
      "text/plain": [
       "0.8555555555555555"
      ]
     },
     "execution_count": 74,
     "metadata": {},
     "output_type": "execute_result"
    }
   ],
   "source": [
    "# testing data eval\n",
    "y_test_pred = log_model.predict(x_test)\n",
    "acc_score = accuracy_score(y_test,y_test_pred) \n",
    "acc_score"
   ]
  },
  {
   "cell_type": "code",
   "execution_count": 75,
   "id": "51310310-2050-4c98-8485-8f13c1e26a9f",
   "metadata": {},
   "outputs": [
    {
     "data": {
      "text/plain": [
       "0.8809523809523809"
      ]
     },
     "execution_count": 75,
     "metadata": {},
     "output_type": "execute_result"
    }
   ],
   "source": [
    "# training data eval\n",
    "y_train_pred = log_model.predict(x_train)\n",
    "acc_score = accuracy_score(y_train,y_train_pred) \n",
    "acc_score"
   ]
  },
  {
   "cell_type": "code",
   "execution_count": 78,
   "id": "4b091820-5fa8-4823-8c7f-eb840ccb8329",
   "metadata": {},
   "outputs": [],
   "source": [
    "import pickle\n",
    "pickle.dump(log_model,open(\"std_model.pkl\",\"wb\"))"
   ]
  },
  {
   "cell_type": "code",
   "execution_count": 81,
   "id": "a2ff5603-d45a-4938-abdc-7a6fea4eb920",
   "metadata": {},
   "outputs": [
    {
     "name": "stdin",
     "output_type": "stream",
     "text": [
      " 7.5\n",
      " 101\n",
      " 70\n"
     ]
    },
    {
     "data": {
      "text/plain": [
       "array([1], dtype=int64)"
      ]
     },
     "execution_count": 81,
     "metadata": {},
     "output_type": "execute_result"
    }
   ],
   "source": [
    "cgpa = float(input())\n",
    "iq = int(input())\n",
    "profile_score = int(input())\n",
    "\n",
    "result = log_model.predict([[cgpa,iq,profile_score]])\n",
    "result"
   ]
  },
  {
   "cell_type": "code",
   "execution_count": null,
   "id": "16af0a59-6e43-4ea7-a3d4-03ff0ae6c366",
   "metadata": {},
   "outputs": [],
   "source": []
  },
  {
   "cell_type": "code",
   "execution_count": null,
   "id": "e59841b3-a09a-4c24-a2ae-68113116b267",
   "metadata": {},
   "outputs": [],
   "source": []
  },
  {
   "cell_type": "code",
   "execution_count": null,
   "id": "b6fcf4e9-a93a-4541-a0ec-37ab7dc05d23",
   "metadata": {},
   "outputs": [],
   "source": []
  },
  {
   "cell_type": "code",
   "execution_count": null,
   "id": "a1432be9-78f5-4f60-ab4f-dc64c39994da",
   "metadata": {},
   "outputs": [],
   "source": []
  },
  {
   "cell_type": "code",
   "execution_count": null,
   "id": "76040204-3ebf-433e-8b56-c6b50b7205bc",
   "metadata": {},
   "outputs": [],
   "source": []
  },
  {
   "cell_type": "code",
   "execution_count": null,
   "id": "1f516fcc-da3f-465f-9499-8310105e8274",
   "metadata": {},
   "outputs": [],
   "source": []
  }
 ],
 "metadata": {
  "kernelspec": {
   "display_name": "std_env",
   "language": "python",
   "name": "std_env"
  },
  "language_info": {
   "codemirror_mode": {
    "name": "ipython",
    "version": 3
   },
   "file_extension": ".py",
   "mimetype": "text/x-python",
   "name": "python",
   "nbconvert_exporter": "python",
   "pygments_lexer": "ipython3",
   "version": "3.9.12"
  }
 },
 "nbformat": 4,
 "nbformat_minor": 5
}
